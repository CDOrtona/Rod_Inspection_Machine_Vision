{
 "cells": [
  {
   "cell_type": "code",
   "execution_count": null,
   "id": "84333ff9",
   "metadata": {},
   "outputs": [],
   "source": [
    "First and foremost the image must be read and such operation is performed through opencv.\n",
    "The machine vision workflow begins with binarization. The image must be inherently bimodal in order to apply OTSU's algorithm\n",
    "in this case the image has been acquired through the so called backlight tecnique hence it must be bimodal\n",
    "\n"
   ]
  },
  {
   "cell_type": "code",
   "execution_count": null,
   "id": "62c9c543",
   "metadata": {},
   "outputs": [],
   "source": [
    "https://docs.opencv.org/4.x/d7/d4d/tutorial_py_thresholding.html -> Otsus' binarization"
   ]
  },
  {
   "cell_type": "code",
   "execution_count": null,
   "id": "f158e25e",
   "metadata": {},
   "outputs": [],
   "source": [
    "In this case there is no need to point out the desired ROI"
   ]
  },
  {
   "cell_type": "code",
   "execution_count": null,
   "id": "7a89367b",
   "metadata": {},
   "outputs": [],
   "source": [
    "the connected component labelling is performed https://docs.opencv.org/4.x/d3/dc0/group__imgproc__shape.html#gaedef8c7340499ca391d459122e51bef5"
   ]
  },
  {
   "cell_type": "code",
   "execution_count": null,
   "id": "c864bb51",
   "metadata": {},
   "outputs": [],
   "source": [
    "It returns the total number of labels which have been found and a mask named labels which has the same dimesion as the input image\n",
    "The labels matrix has groups of the same integers which are the different blobs obtained from the component labelling.\n",
    "The first value of both the vector retval and the matrix labels refer to the background"
   ]
  },
  {
   "cell_type": "code",
   "execution_count": null,
   "id": "f314db42",
   "metadata": {},
   "outputs": [],
   "source": [
    "we have to parse the info of the stats and centroids https://docs.opencv.org/4.x/d3/dc0/group__imgproc__shape.html#gac7099124c0390051c6970a987e7dc5c5"
   ]
  }
 ],
 "metadata": {
  "kernelspec": {
   "display_name": "Python 3 (ipykernel)",
   "language": "python",
   "name": "python3"
  },
  "language_info": {
   "codemirror_mode": {
    "name": "ipython",
    "version": 3
   },
   "file_extension": ".py",
   "mimetype": "text/x-python",
   "name": "python",
   "nbconvert_exporter": "python",
   "pygments_lexer": "ipython3",
   "version": "3.9.7"
  }
 },
 "nbformat": 4,
 "nbformat_minor": 5
}
