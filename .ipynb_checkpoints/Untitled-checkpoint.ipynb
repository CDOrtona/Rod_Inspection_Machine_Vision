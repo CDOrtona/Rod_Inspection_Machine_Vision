{
 "cells": [
  {
   "cell_type": "code",
   "execution_count": null,
   "id": "1237362e",
   "metadata": {},
   "outputs": [],
   "source": [
    "First and foremost the image must be read and such operation is performed through opencv.\n",
    "The machine vision workflow begins with binarization. The image must be inherently bimodal in order to apply OTSU's algorithm\n"
   ]
  },
  {
   "cell_type": "code",
   "execution_count": null,
   "id": "98942dd6",
   "metadata": {},
   "outputs": [],
   "source": []
  }
 ],
 "metadata": {
  "kernelspec": {
   "display_name": "Python 3 (ipykernel)",
   "language": "python",
   "name": "python3"
  },
  "language_info": {
   "codemirror_mode": {
    "name": "ipython",
    "version": 3
   },
   "file_extension": ".py",
   "mimetype": "text/x-python",
   "name": "python",
   "nbconvert_exporter": "python",
   "pygments_lexer": "ipython3",
   "version": "3.9.7"
  }
 },
 "nbformat": 4,
 "nbformat_minor": 5
}
